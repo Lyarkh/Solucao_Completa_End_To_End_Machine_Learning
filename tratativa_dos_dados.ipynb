{
 "cells": [
  {
   "cell_type": "markdown",
   "id": "3461a3ee",
   "metadata": {},
   "source": [
    "# Tratativa dos dados\n",
    "---"
   ]
  },
  {
   "cell_type": "markdown",
   "id": "eb4d6a71",
   "metadata": {},
   "source": [
    "## Importando bibliotecas necessárias \n",
    "---"
   ]
  },
  {
   "cell_type": "code",
   "execution_count": 4,
   "id": "150bb04e",
   "metadata": {},
   "outputs": [],
   "source": [
    "import pandas as pd\n",
    "import numpy as np\n",
    "\n",
    "import matplotlib.pyplot as plt\n",
    "import seaborn as sns\n",
    "\n",
    "import warnings"
   ]
  },
  {
   "cell_type": "markdown",
   "id": "f1e882d6",
   "metadata": {},
   "source": [
    "## Configurações das bibliotecas\n",
    "---\n"
   ]
  },
  {
   "cell_type": "code",
   "execution_count": 6,
   "id": "af6742fb",
   "metadata": {},
   "outputs": [],
   "source": [
    "pd.set_option('display.max_rows', 200)\n",
    "pd.set_option( 'display.max_columns', 100)\n",
    "\n",
    "warnings.filterwarnings('ignore')\n",
    "\n",
    "plt.rcParams['Figure.figsize'] = (15, 6)\n",
    "plt.style.use('seaborn-darkgrid')"
   ]
  },
  {
   "cell_type": "markdown",
   "id": "f43be3b5",
   "metadata": {},
   "source": [
    "## Exploração dos dados\n",
    "---"
   ]
  },
  {
   "cell_type": "code",
   "execution_count": 9,
   "id": "73ff3859",
   "metadata": {},
   "outputs": [
    {
     "name": "stdout",
     "output_type": "stream",
     "text": [
      "Dimensão do dataset -> (10692, 13)\n"
     ]
    },
    {
     "data": {
      "text/html": [
       "<div>\n",
       "<style scoped>\n",
       "    .dataframe tbody tr th:only-of-type {\n",
       "        vertical-align: middle;\n",
       "    }\n",
       "\n",
       "    .dataframe tbody tr th {\n",
       "        vertical-align: top;\n",
       "    }\n",
       "\n",
       "    .dataframe thead th {\n",
       "        text-align: right;\n",
       "    }\n",
       "</style>\n",
       "<table border=\"1\" class=\"dataframe\">\n",
       "  <thead>\n",
       "    <tr style=\"text-align: right;\">\n",
       "      <th></th>\n",
       "      <th>city</th>\n",
       "      <th>area</th>\n",
       "      <th>rooms</th>\n",
       "      <th>bathroom</th>\n",
       "      <th>parking spaces</th>\n",
       "      <th>floor</th>\n",
       "      <th>animal</th>\n",
       "      <th>furniture</th>\n",
       "      <th>hoa (R$)</th>\n",
       "      <th>rent amount (R$)</th>\n",
       "      <th>property tax (R$)</th>\n",
       "      <th>fire insurance (R$)</th>\n",
       "      <th>total (R$)</th>\n",
       "    </tr>\n",
       "  </thead>\n",
       "  <tbody>\n",
       "    <tr>\n",
       "      <th>0</th>\n",
       "      <td>São Paulo</td>\n",
       "      <td>70</td>\n",
       "      <td>2</td>\n",
       "      <td>1</td>\n",
       "      <td>1</td>\n",
       "      <td>7</td>\n",
       "      <td>acept</td>\n",
       "      <td>furnished</td>\n",
       "      <td>2065</td>\n",
       "      <td>3300</td>\n",
       "      <td>211</td>\n",
       "      <td>42</td>\n",
       "      <td>5618</td>\n",
       "    </tr>\n",
       "    <tr>\n",
       "      <th>1</th>\n",
       "      <td>São Paulo</td>\n",
       "      <td>320</td>\n",
       "      <td>4</td>\n",
       "      <td>4</td>\n",
       "      <td>0</td>\n",
       "      <td>20</td>\n",
       "      <td>acept</td>\n",
       "      <td>not furnished</td>\n",
       "      <td>1200</td>\n",
       "      <td>4960</td>\n",
       "      <td>1750</td>\n",
       "      <td>63</td>\n",
       "      <td>7973</td>\n",
       "    </tr>\n",
       "    <tr>\n",
       "      <th>2</th>\n",
       "      <td>Porto Alegre</td>\n",
       "      <td>80</td>\n",
       "      <td>1</td>\n",
       "      <td>1</td>\n",
       "      <td>1</td>\n",
       "      <td>6</td>\n",
       "      <td>acept</td>\n",
       "      <td>not furnished</td>\n",
       "      <td>1000</td>\n",
       "      <td>2800</td>\n",
       "      <td>0</td>\n",
       "      <td>41</td>\n",
       "      <td>3841</td>\n",
       "    </tr>\n",
       "    <tr>\n",
       "      <th>3</th>\n",
       "      <td>Porto Alegre</td>\n",
       "      <td>51</td>\n",
       "      <td>2</td>\n",
       "      <td>1</td>\n",
       "      <td>0</td>\n",
       "      <td>2</td>\n",
       "      <td>acept</td>\n",
       "      <td>not furnished</td>\n",
       "      <td>270</td>\n",
       "      <td>1112</td>\n",
       "      <td>22</td>\n",
       "      <td>17</td>\n",
       "      <td>1421</td>\n",
       "    </tr>\n",
       "    <tr>\n",
       "      <th>4</th>\n",
       "      <td>São Paulo</td>\n",
       "      <td>25</td>\n",
       "      <td>1</td>\n",
       "      <td>1</td>\n",
       "      <td>0</td>\n",
       "      <td>1</td>\n",
       "      <td>not acept</td>\n",
       "      <td>not furnished</td>\n",
       "      <td>0</td>\n",
       "      <td>800</td>\n",
       "      <td>25</td>\n",
       "      <td>11</td>\n",
       "      <td>836</td>\n",
       "    </tr>\n",
       "  </tbody>\n",
       "</table>\n",
       "</div>"
      ],
      "text/plain": [
       "           city  area  rooms  bathroom  parking spaces floor     animal  \\\n",
       "0     São Paulo    70      2         1               1     7      acept   \n",
       "1     São Paulo   320      4         4               0    20      acept   \n",
       "2  Porto Alegre    80      1         1               1     6      acept   \n",
       "3  Porto Alegre    51      2         1               0     2      acept   \n",
       "4     São Paulo    25      1         1               0     1  not acept   \n",
       "\n",
       "       furniture  hoa (R$)  rent amount (R$)  property tax (R$)  \\\n",
       "0      furnished      2065              3300                211   \n",
       "1  not furnished      1200              4960               1750   \n",
       "2  not furnished      1000              2800                  0   \n",
       "3  not furnished       270              1112                 22   \n",
       "4  not furnished         0               800                 25   \n",
       "\n",
       "   fire insurance (R$)  total (R$)  \n",
       "0                   42        5618  \n",
       "1                   63        7973  \n",
       "2                   41        3841  \n",
       "3                   17        1421  \n",
       "4                   11         836  "
      ]
     },
     "execution_count": 9,
     "metadata": {},
     "output_type": "execute_result"
    }
   ],
   "source": [
    "dados = pd.read_csv('./data/house_data.csv')\n",
    "print(f'Dimensão do dataset -> {dados.shape}')\n",
    "dados.head()"
   ]
  },
  {
   "cell_type": "code",
   "execution_count": 11,
   "id": "d5aca8b6",
   "metadata": {},
   "outputs": [
    {
     "data": {
      "text/html": [
       "<div>\n",
       "<style scoped>\n",
       "    .dataframe tbody tr th:only-of-type {\n",
       "        vertical-align: middle;\n",
       "    }\n",
       "\n",
       "    .dataframe tbody tr th {\n",
       "        vertical-align: top;\n",
       "    }\n",
       "\n",
       "    .dataframe thead th {\n",
       "        text-align: right;\n",
       "    }\n",
       "</style>\n",
       "<table border=\"1\" class=\"dataframe\">\n",
       "  <thead>\n",
       "    <tr style=\"text-align: right;\">\n",
       "      <th></th>\n",
       "      <th>city</th>\n",
       "      <th>area</th>\n",
       "      <th>rooms</th>\n",
       "      <th>bathroom</th>\n",
       "      <th>parking spaces</th>\n",
       "      <th>floor</th>\n",
       "      <th>animal</th>\n",
       "      <th>furniture</th>\n",
       "      <th>hoa (R$)</th>\n",
       "      <th>rent amount (R$)</th>\n",
       "      <th>property tax (R$)</th>\n",
       "    </tr>\n",
       "  </thead>\n",
       "  <tbody>\n",
       "    <tr>\n",
       "      <th>0</th>\n",
       "      <td>São Paulo</td>\n",
       "      <td>70</td>\n",
       "      <td>2</td>\n",
       "      <td>1</td>\n",
       "      <td>1</td>\n",
       "      <td>7</td>\n",
       "      <td>acept</td>\n",
       "      <td>furnished</td>\n",
       "      <td>2065</td>\n",
       "      <td>3300</td>\n",
       "      <td>211</td>\n",
       "    </tr>\n",
       "    <tr>\n",
       "      <th>1</th>\n",
       "      <td>São Paulo</td>\n",
       "      <td>320</td>\n",
       "      <td>4</td>\n",
       "      <td>4</td>\n",
       "      <td>0</td>\n",
       "      <td>20</td>\n",
       "      <td>acept</td>\n",
       "      <td>not furnished</td>\n",
       "      <td>1200</td>\n",
       "      <td>4960</td>\n",
       "      <td>1750</td>\n",
       "    </tr>\n",
       "    <tr>\n",
       "      <th>2</th>\n",
       "      <td>Porto Alegre</td>\n",
       "      <td>80</td>\n",
       "      <td>1</td>\n",
       "      <td>1</td>\n",
       "      <td>1</td>\n",
       "      <td>6</td>\n",
       "      <td>acept</td>\n",
       "      <td>not furnished</td>\n",
       "      <td>1000</td>\n",
       "      <td>2800</td>\n",
       "      <td>0</td>\n",
       "    </tr>\n",
       "    <tr>\n",
       "      <th>3</th>\n",
       "      <td>Porto Alegre</td>\n",
       "      <td>51</td>\n",
       "      <td>2</td>\n",
       "      <td>1</td>\n",
       "      <td>0</td>\n",
       "      <td>2</td>\n",
       "      <td>acept</td>\n",
       "      <td>not furnished</td>\n",
       "      <td>270</td>\n",
       "      <td>1112</td>\n",
       "      <td>22</td>\n",
       "    </tr>\n",
       "    <tr>\n",
       "      <th>4</th>\n",
       "      <td>São Paulo</td>\n",
       "      <td>25</td>\n",
       "      <td>1</td>\n",
       "      <td>1</td>\n",
       "      <td>0</td>\n",
       "      <td>1</td>\n",
       "      <td>not acept</td>\n",
       "      <td>not furnished</td>\n",
       "      <td>0</td>\n",
       "      <td>800</td>\n",
       "      <td>25</td>\n",
       "    </tr>\n",
       "  </tbody>\n",
       "</table>\n",
       "</div>"
      ],
      "text/plain": [
       "           city  area  rooms  bathroom  parking spaces floor     animal  \\\n",
       "0     São Paulo    70      2         1               1     7      acept   \n",
       "1     São Paulo   320      4         4               0    20      acept   \n",
       "2  Porto Alegre    80      1         1               1     6      acept   \n",
       "3  Porto Alegre    51      2         1               0     2      acept   \n",
       "4     São Paulo    25      1         1               0     1  not acept   \n",
       "\n",
       "       furniture  hoa (R$)  rent amount (R$)  property tax (R$)  \n",
       "0      furnished      2065              3300                211  \n",
       "1  not furnished      1200              4960               1750  \n",
       "2  not furnished      1000              2800                  0  \n",
       "3  not furnished       270              1112                 22  \n",
       "4  not furnished         0               800                 25  "
      ]
     },
     "execution_count": 11,
     "metadata": {},
     "output_type": "execute_result"
    }
   ],
   "source": [
    "dados = dados.drop(columns= ['fire insurance (R$)', 'total (R$)'])\n",
    "dados.head()"
   ]
  },
  {
   "cell_type": "code",
   "execution_count": 12,
   "id": "293ae918",
   "metadata": {},
   "outputs": [
    {
     "name": "stdout",
     "output_type": "stream",
     "text": [
      "<class 'pandas.core.frame.DataFrame'>\n",
      "RangeIndex: 10692 entries, 0 to 10691\n",
      "Data columns (total 11 columns):\n",
      " #   Column             Non-Null Count  Dtype \n",
      "---  ------             --------------  ----- \n",
      " 0   city               10692 non-null  object\n",
      " 1   area               10692 non-null  int64 \n",
      " 2   rooms              10692 non-null  int64 \n",
      " 3   bathroom           10692 non-null  int64 \n",
      " 4   parking spaces     10692 non-null  int64 \n",
      " 5   floor              10692 non-null  object\n",
      " 6   animal             10692 non-null  object\n",
      " 7   furniture          10692 non-null  object\n",
      " 8   hoa (R$)           10692 non-null  int64 \n",
      " 9   rent amount (R$)   10692 non-null  int64 \n",
      " 10  property tax (R$)  10692 non-null  int64 \n",
      "dtypes: int64(7), object(4)\n",
      "memory usage: 919.0+ KB\n"
     ]
    }
   ],
   "source": [
    "dados.info()"
   ]
  },
  {
   "cell_type": "code",
   "execution_count": 16,
   "id": "621f0916",
   "metadata": {},
   "outputs": [
    {
     "data": {
      "text/plain": [
       "city                 object\n",
       "area                  int64\n",
       "rooms                 int64\n",
       "bathroom              int64\n",
       "parking spaces        int64\n",
       "floor                object\n",
       "animal               object\n",
       "furniture            object\n",
       "hoa (R$)              int64\n",
       "rent amount (R$)      int64\n",
       "property tax (R$)     int64\n",
       "dtype: object"
      ]
     },
     "execution_count": 16,
     "metadata": {},
     "output_type": "execute_result"
    }
   ],
   "source": [
    "dados.dtypes"
   ]
  },
  {
   "cell_type": "code",
   "execution_count": 13,
   "id": "16a7a87e",
   "metadata": {},
   "outputs": [
    {
     "data": {
      "text/plain": [
       "city                 0\n",
       "area                 0\n",
       "rooms                0\n",
       "bathroom             0\n",
       "parking spaces       0\n",
       "floor                0\n",
       "animal               0\n",
       "furniture            0\n",
       "hoa (R$)             0\n",
       "rent amount (R$)     0\n",
       "property tax (R$)    0\n",
       "dtype: int64"
      ]
     },
     "execution_count": 13,
     "metadata": {},
     "output_type": "execute_result"
    }
   ],
   "source": [
    "dados.isnull().sum()"
   ]
  },
  {
   "cell_type": "code",
   "execution_count": 14,
   "id": "3a13fa53",
   "metadata": {},
   "outputs": [
    {
     "data": {
      "text/plain": [
       "city                    5\n",
       "area                  517\n",
       "rooms                  11\n",
       "bathroom               10\n",
       "parking spaces         11\n",
       "floor                  35\n",
       "animal                  2\n",
       "furniture               2\n",
       "hoa (R$)             1679\n",
       "rent amount (R$)     1195\n",
       "property tax (R$)    1243\n",
       "dtype: int64"
      ]
     },
     "execution_count": 14,
     "metadata": {},
     "output_type": "execute_result"
    }
   ],
   "source": [
    "dados.nunique()"
   ]
  },
  {
   "cell_type": "markdown",
   "id": "2d04899f",
   "metadata": {},
   "source": [
    "## Exploração Análitica (EDA)\n",
    "---"
   ]
  },
  {
   "cell_type": "code",
   "execution_count": 17,
   "id": "b38dcb19",
   "metadata": {},
   "outputs": [
    {
     "data": {
      "text/plain": [
       "(Index(['city', 'floor', 'animal', 'furniture'], dtype='object'),\n",
       " Index(['area', 'rooms', 'bathroom', 'parking spaces', 'hoa (R$)',\n",
       "        'rent amount (R$)', 'property tax (R$)'],\n",
       "       dtype='object'))"
      ]
     },
     "execution_count": 17,
     "metadata": {},
     "output_type": "execute_result"
    }
   ],
   "source": [
    "# Filtrar os tipos de colunas\n",
    "colunas_categoricas = dados.columns[dados.dtypes == object]\n",
    "colunas_numericas = dados.columns[dados.dtypes != object]\n",
    "\n",
    "\n",
    "colunas_categoricas, colunas_numericas"
   ]
  },
  {
   "cell_type": "markdown",
   "id": "8e40432e",
   "metadata": {},
   "source": [
    "### Análise dos campos categóricos\n",
    "---"
   ]
  },
  {
   "cell_type": "code",
   "execution_count": 24,
   "id": "e9b25de0",
   "metadata": {},
   "outputs": [
    {
     "name": "stdout",
     "output_type": "stream",
     "text": [
      "\n",
      "Coluna: city\n",
      "city\n",
      "São Paulo         55.059858\n",
      "Rio de Janeiro    14.038533\n",
      "Belo Horizonte    11.765806\n",
      "Porto Alegre      11.157875\n",
      "Campinas           7.977927\n",
      "Name: proportion, dtype: float64\n",
      "\n",
      "Coluna: floor\n",
      "floor\n",
      "-      23.017209\n",
      "1      10.110363\n",
      "2       9.212495\n",
      "3       8.707445\n",
      "4       6.995885\n",
      "5       5.611672\n",
      "6       5.041152\n",
      "7       4.648335\n",
      "8       4.582866\n",
      "9       3.451178\n",
      "10      3.338945\n",
      "11      2.833895\n",
      "12      2.403666\n",
      "13      1.870557\n",
      "14      1.589974\n",
      "15      1.374860\n",
      "16      1.019454\n",
      "17      0.897868\n",
      "18      0.701459\n",
      "19      0.495698\n",
      "20      0.411523\n",
      "21      0.392817\n",
      "25      0.233820\n",
      "23      0.233820\n",
      "22      0.224467\n",
      "26      0.187056\n",
      "24      0.177703\n",
      "27      0.074822\n",
      "28      0.056117\n",
      "29      0.046764\n",
      "32      0.018706\n",
      "35      0.009353\n",
      "46      0.009353\n",
      "301     0.009353\n",
      "51      0.009353\n",
      "Name: proportion, dtype: float64\n",
      "\n",
      "Coluna: animal\n",
      "animal\n",
      "acept        77.777778\n",
      "not acept    22.222222\n",
      "Name: proportion, dtype: float64\n",
      "\n",
      "Coluna: furniture\n",
      "furniture\n",
      "not furnished    75.626637\n",
      "furnished        24.373363\n",
      "Name: proportion, dtype: float64\n"
     ]
    }
   ],
   "source": [
    "for coluna in colunas_categoricas:\n",
    "    analise_coluna = dados[coluna].value_counts(normalize=True) * 100\n",
    "    print(f'\\nColuna: {coluna}')\n",
    "    print(analise_coluna)"
   ]
  },
  {
   "cell_type": "code",
   "execution_count": 31,
   "id": "15713903",
   "metadata": {},
   "outputs": [
    {
     "data": {
      "text/plain": [
       "city                 object\n",
       "area                  int64\n",
       "rooms                 int64\n",
       "bathroom              int64\n",
       "parking spaces        int64\n",
       "floor                 int64\n",
       "animal               object\n",
       "furniture            object\n",
       "hoa (R$)              int64\n",
       "rent amount (R$)      int64\n",
       "property tax (R$)     int64\n",
       "dtype: object"
      ]
     },
     "execution_count": 31,
     "metadata": {},
     "output_type": "execute_result"
    }
   ],
   "source": [
    "# Correção dos dados \n",
    "\n",
    "# Ajustando o andar\n",
    "dados.loc[dados.floor == '301']\n",
    "dados.iloc[2562, 5] = 30\n",
    "\n",
    "# Ajustar o '-'\n",
    "dados.floor = dados.floor.apply(lambda registro: 0 if registro == '-' else registro)\n",
    "dados.floor = pd.to_numeric(dados.floor)\n",
    "\n",
    "dados.dtypes"
   ]
  },
  {
   "cell_type": "code",
   "execution_count": null,
   "id": "564324c5",
   "metadata": {},
   "outputs": [],
   "source": []
  }
 ],
 "metadata": {
  "kernelspec": {
   "display_name": "Python 3 (ipykernel)",
   "language": "python",
   "name": "python3"
  },
  "language_info": {
   "codemirror_mode": {
    "name": "ipython",
    "version": 3
   },
   "file_extension": ".py",
   "mimetype": "text/x-python",
   "name": "python",
   "nbconvert_exporter": "python",
   "pygments_lexer": "ipython3",
   "version": "3.11.1"
  }
 },
 "nbformat": 4,
 "nbformat_minor": 5
}
